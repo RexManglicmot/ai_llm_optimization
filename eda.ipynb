{
 "cells": [
  {
   "cell_type": "code",
   "execution_count": 7,
   "id": "2c731450",
   "metadata": {},
   "outputs": [],
   "source": [
    "import pandas as pd\n",
    "import ast \n",
    "import os"
   ]
  },
  {
   "cell_type": "code",
   "execution_count": 8,
   "id": "553263d2",
   "metadata": {},
   "outputs": [],
   "source": [
    "df_dev = pd.read_parquet(\"/Users/Rex/vscode/ai_llm_optimization/data/dev-00000-of-00001 (2).parquet\")\n",
    "df_test = pd.read_parquet(\"/Users/Rex/vscode/ai_llm_optimization/data/test-00000-of-00001 (1).parquet\")\n",
    "df_val = pd.read_parquet(\"/Users/Rex/vscode/ai_llm_optimization/data/validation-00000-of-00001 (1).parquet\")\n",
    "df_aux = pd.read_parquet(\"/Users/Rex/vscode/ai_llm_optimization/data/auxiliary_train-00000-of-00001.parquet\")\n"
   ]
  },
  {
   "cell_type": "code",
   "execution_count": 3,
   "id": "d6dbc674",
   "metadata": {},
   "outputs": [
    {
     "data": {
      "text/html": [
       "<div>\n",
       "<style scoped>\n",
       "    .dataframe tbody tr th:only-of-type {\n",
       "        vertical-align: middle;\n",
       "    }\n",
       "\n",
       "    .dataframe tbody tr th {\n",
       "        vertical-align: top;\n",
       "    }\n",
       "\n",
       "    .dataframe thead th {\n",
       "        text-align: right;\n",
       "    }\n",
       "</style>\n",
       "<table border=\"1\" class=\"dataframe\">\n",
       "  <thead>\n",
       "    <tr style=\"text-align: right;\">\n",
       "      <th></th>\n",
       "      <th>question</th>\n",
       "      <th>subject</th>\n",
       "      <th>choices</th>\n",
       "      <th>answer</th>\n",
       "    </tr>\n",
       "  </thead>\n",
       "  <tbody>\n",
       "    <tr>\n",
       "      <th>0</th>\n",
       "      <td>Find all c in Z_3 such that Z_3[x]/(x^2 + c) i...</td>\n",
       "      <td>abstract_algebra</td>\n",
       "      <td>[0, 1, 2, 3]</td>\n",
       "      <td>1</td>\n",
       "    </tr>\n",
       "    <tr>\n",
       "      <th>1</th>\n",
       "      <td>Statement 1 | If aH is an element of a factor ...</td>\n",
       "      <td>abstract_algebra</td>\n",
       "      <td>[True, True, False, False, True, False, False,...</td>\n",
       "      <td>1</td>\n",
       "    </tr>\n",
       "    <tr>\n",
       "      <th>2</th>\n",
       "      <td>Statement 1 | Every element of a group generat...</td>\n",
       "      <td>abstract_algebra</td>\n",
       "      <td>[True, True, False, False, True, False, False,...</td>\n",
       "      <td>2</td>\n",
       "    </tr>\n",
       "    <tr>\n",
       "      <th>3</th>\n",
       "      <td>Statement 1| Every function from a finite set ...</td>\n",
       "      <td>abstract_algebra</td>\n",
       "      <td>[True, True, False, False, True, False, False,...</td>\n",
       "      <td>0</td>\n",
       "    </tr>\n",
       "    <tr>\n",
       "      <th>4</th>\n",
       "      <td>Find the characteristic of the ring 2Z.</td>\n",
       "      <td>abstract_algebra</td>\n",
       "      <td>[0, 3, 12, 30]</td>\n",
       "      <td>0</td>\n",
       "    </tr>\n",
       "    <tr>\n",
       "      <th>5</th>\n",
       "      <td>What is the embryological origin of the hyoid ...</td>\n",
       "      <td>anatomy</td>\n",
       "      <td>[The first pharyngeal arch, The first and seco...</td>\n",
       "      <td>3</td>\n",
       "    </tr>\n",
       "    <tr>\n",
       "      <th>6</th>\n",
       "      <td>Which of these branches of the trigeminal nerv...</td>\n",
       "      <td>anatomy</td>\n",
       "      <td>[The supraorbital nerve, The infraorbital nerv...</td>\n",
       "      <td>3</td>\n",
       "    </tr>\n",
       "    <tr>\n",
       "      <th>7</th>\n",
       "      <td>The pleura</td>\n",
       "      <td>anatomy</td>\n",
       "      <td>[have no sensory innervation., are separated b...</td>\n",
       "      <td>2</td>\n",
       "    </tr>\n",
       "    <tr>\n",
       "      <th>8</th>\n",
       "      <td>In Angle's Class II Div 2 occlusion there is</td>\n",
       "      <td>anatomy</td>\n",
       "      <td>[excess overbite of the upper lateral incisors...</td>\n",
       "      <td>2</td>\n",
       "    </tr>\n",
       "    <tr>\n",
       "      <th>9</th>\n",
       "      <td>Which of the following is the body cavity that...</td>\n",
       "      <td>anatomy</td>\n",
       "      <td>[Abdominal, Cranial, Pleural, Spinal]</td>\n",
       "      <td>1</td>\n",
       "    </tr>\n",
       "    <tr>\n",
       "      <th>10</th>\n",
       "      <td>You are pushing a truck along a road. Would it...</td>\n",
       "      <td>astronomy</td>\n",
       "      <td>[It would be harder since the truck is heavier...</td>\n",
       "      <td>3</td>\n",
       "    </tr>\n",
       "    <tr>\n",
       "      <th>11</th>\n",
       "      <td>Where do most short-period comets come from an...</td>\n",
       "      <td>astronomy</td>\n",
       "      <td>[The Kuiper belt; short period comets tend to ...</td>\n",
       "      <td>0</td>\n",
       "    </tr>\n",
       "    <tr>\n",
       "      <th>12</th>\n",
       "      <td>Say the pupil of your eye has a diameter of 5 ...</td>\n",
       "      <td>astronomy</td>\n",
       "      <td>[10000 times more, 100 times more, 1000 times ...</td>\n",
       "      <td>0</td>\n",
       "    </tr>\n",
       "    <tr>\n",
       "      <th>13</th>\n",
       "      <td>Why isn't there a planet where the asteroid be...</td>\n",
       "      <td>astronomy</td>\n",
       "      <td>[A planet once formed here but it was broken a...</td>\n",
       "      <td>3</td>\n",
       "    </tr>\n",
       "    <tr>\n",
       "      <th>14</th>\n",
       "      <td>Why is Mars red?</td>\n",
       "      <td>astronomy</td>\n",
       "      <td>[Because the surface is covered with heavily o...</td>\n",
       "      <td>0</td>\n",
       "    </tr>\n",
       "    <tr>\n",
       "      <th>15</th>\n",
       "      <td>Beyond the business case for engaging in CSR t...</td>\n",
       "      <td>business_ethics</td>\n",
       "      <td>[Externalities, Power, Independence, Publicity...</td>\n",
       "      <td>3</td>\n",
       "    </tr>\n",
       "    <tr>\n",
       "      <th>16</th>\n",
       "      <td>_______ is the direct attempt to formally or i...</td>\n",
       "      <td>business_ethics</td>\n",
       "      <td>[Corporate social responsibility, Business eth...</td>\n",
       "      <td>1</td>\n",
       "    </tr>\n",
       "    <tr>\n",
       "      <th>17</th>\n",
       "      <td>To ensure the independence of the non-executiv...</td>\n",
       "      <td>business_ethics</td>\n",
       "      <td>[Outside, Limited, Independently, Inside, Limi...</td>\n",
       "      <td>0</td>\n",
       "    </tr>\n",
       "    <tr>\n",
       "      <th>18</th>\n",
       "      <td>Three contrasting tactics that CSO's can engag...</td>\n",
       "      <td>business_ethics</td>\n",
       "      <td>[Non-violent direct action, Violent direct act...</td>\n",
       "      <td>2</td>\n",
       "    </tr>\n",
       "    <tr>\n",
       "      <th>19</th>\n",
       "      <td>In contrast to _______, _______ aim to reward ...</td>\n",
       "      <td>business_ethics</td>\n",
       "      <td>[Buycotts, Boycotts, Blockchain technology, Ch...</td>\n",
       "      <td>3</td>\n",
       "    </tr>\n",
       "    <tr>\n",
       "      <th>20</th>\n",
       "      <td>The energy for all forms of muscle contraction...</td>\n",
       "      <td>clinical_knowledge</td>\n",
       "      <td>[ATP., ADP., phosphocreatine., oxidative phosp...</td>\n",
       "      <td>0</td>\n",
       "    </tr>\n",
       "    <tr>\n",
       "      <th>21</th>\n",
       "      <td>What is the difference between a male and a fe...</td>\n",
       "      <td>clinical_knowledge</td>\n",
       "      <td>[Male and female catheters are different colou...</td>\n",
       "      <td>1</td>\n",
       "    </tr>\n",
       "    <tr>\n",
       "      <th>22</th>\n",
       "      <td>In the assessment of the hand function which o...</td>\n",
       "      <td>clinical_knowledge</td>\n",
       "      <td>[Abduction of the thumb is supplied by spinal ...</td>\n",
       "      <td>1</td>\n",
       "    </tr>\n",
       "    <tr>\n",
       "      <th>23</th>\n",
       "      <td>How many attempts should you make to cannulate...</td>\n",
       "      <td>clinical_knowledge</td>\n",
       "      <td>[4, 3, 2, 1]</td>\n",
       "      <td>2</td>\n",
       "    </tr>\n",
       "    <tr>\n",
       "      <th>24</th>\n",
       "      <td>Glycolysis is the name given to the pathway in...</td>\n",
       "      <td>clinical_knowledge</td>\n",
       "      <td>[glycogen to glucose-1-phosphate., glycogen or...</td>\n",
       "      <td>2</td>\n",
       "    </tr>\n",
       "  </tbody>\n",
       "</table>\n",
       "</div>"
      ],
      "text/plain": [
       "                                             question             subject  \\\n",
       "0   Find all c in Z_3 such that Z_3[x]/(x^2 + c) i...    abstract_algebra   \n",
       "1   Statement 1 | If aH is an element of a factor ...    abstract_algebra   \n",
       "2   Statement 1 | Every element of a group generat...    abstract_algebra   \n",
       "3   Statement 1| Every function from a finite set ...    abstract_algebra   \n",
       "4             Find the characteristic of the ring 2Z.    abstract_algebra   \n",
       "5   What is the embryological origin of the hyoid ...             anatomy   \n",
       "6   Which of these branches of the trigeminal nerv...             anatomy   \n",
       "7                                          The pleura             anatomy   \n",
       "8        In Angle's Class II Div 2 occlusion there is             anatomy   \n",
       "9   Which of the following is the body cavity that...             anatomy   \n",
       "10  You are pushing a truck along a road. Would it...           astronomy   \n",
       "11  Where do most short-period comets come from an...           astronomy   \n",
       "12  Say the pupil of your eye has a diameter of 5 ...           astronomy   \n",
       "13  Why isn't there a planet where the asteroid be...           astronomy   \n",
       "14                                   Why is Mars red?           astronomy   \n",
       "15  Beyond the business case for engaging in CSR t...     business_ethics   \n",
       "16  _______ is the direct attempt to formally or i...     business_ethics   \n",
       "17  To ensure the independence of the non-executiv...     business_ethics   \n",
       "18  Three contrasting tactics that CSO's can engag...     business_ethics   \n",
       "19  In contrast to _______, _______ aim to reward ...     business_ethics   \n",
       "20  The energy for all forms of muscle contraction...  clinical_knowledge   \n",
       "21  What is the difference between a male and a fe...  clinical_knowledge   \n",
       "22  In the assessment of the hand function which o...  clinical_knowledge   \n",
       "23  How many attempts should you make to cannulate...  clinical_knowledge   \n",
       "24  Glycolysis is the name given to the pathway in...  clinical_knowledge   \n",
       "\n",
       "                                              choices  answer  \n",
       "0                                        [0, 1, 2, 3]       1  \n",
       "1   [True, True, False, False, True, False, False,...       1  \n",
       "2   [True, True, False, False, True, False, False,...       2  \n",
       "3   [True, True, False, False, True, False, False,...       0  \n",
       "4                                      [0, 3, 12, 30]       0  \n",
       "5   [The first pharyngeal arch, The first and seco...       3  \n",
       "6   [The supraorbital nerve, The infraorbital nerv...       3  \n",
       "7   [have no sensory innervation., are separated b...       2  \n",
       "8   [excess overbite of the upper lateral incisors...       2  \n",
       "9               [Abdominal, Cranial, Pleural, Spinal]       1  \n",
       "10  [It would be harder since the truck is heavier...       3  \n",
       "11  [The Kuiper belt; short period comets tend to ...       0  \n",
       "12  [10000 times more, 100 times more, 1000 times ...       0  \n",
       "13  [A planet once formed here but it was broken a...       3  \n",
       "14  [Because the surface is covered with heavily o...       0  \n",
       "15  [Externalities, Power, Independence, Publicity...       3  \n",
       "16  [Corporate social responsibility, Business eth...       1  \n",
       "17  [Outside, Limited, Independently, Inside, Limi...       0  \n",
       "18  [Non-violent direct action, Violent direct act...       2  \n",
       "19  [Buycotts, Boycotts, Blockchain technology, Ch...       3  \n",
       "20  [ATP., ADP., phosphocreatine., oxidative phosp...       0  \n",
       "21  [Male and female catheters are different colou...       1  \n",
       "22  [Abduction of the thumb is supplied by spinal ...       1  \n",
       "23                                       [4, 3, 2, 1]       2  \n",
       "24  [glycogen to glucose-1-phosphate., glycogen or...       2  "
      ]
     },
     "execution_count": 3,
     "metadata": {},
     "output_type": "execute_result"
    }
   ],
   "source": [
    "df_dev.head(25)"
   ]
  },
  {
   "cell_type": "code",
   "execution_count": 4,
   "id": "73d825d2",
   "metadata": {},
   "outputs": [
    {
     "data": {
      "text/plain": [
       "285"
      ]
     },
     "execution_count": 4,
     "metadata": {},
     "output_type": "execute_result"
    }
   ],
   "source": [
    "len(df_dev)"
   ]
  },
  {
   "cell_type": "code",
   "execution_count": 5,
   "id": "b34e2a3d",
   "metadata": {},
   "outputs": [
    {
     "name": "stdout",
     "output_type": "stream",
     "text": [
      "                                               choices  count\n",
      "0                                         [0, 1, 2, 3]      4\n",
      "1    [True, True, False, False, True, False, False,...      4\n",
      "2    [True, True, False, False, True, False, False,...      4\n",
      "3    [True, True, False, False, True, False, False,...      4\n",
      "4                                       [0, 3, 12, 30]      4\n",
      "..                                                 ...    ...\n",
      "280    [The rainbow, Circumcision, A son, Bar mitzvah]      4\n",
      "281  [The Dharma, The Sangha, The Buddha, The Bodhi...      4\n",
      "282                            [Shang, Zhou, Han, Xia]      4\n",
      "283                   [Honen, Tanaka, Tokugawa, Meiji]      4\n",
      "284  [Ritual texts, Philosophical texts, Hymns, Ori...      4\n",
      "\n",
      "[285 rows x 2 columns]\n",
      "\n",
      "Overall count summary:\n",
      "count\n",
      "4    285\n",
      "Name: count, dtype: int64\n"
     ]
    }
   ],
   "source": [
    "import pandas as pd\n",
    "import numpy as np\n",
    "import ast\n",
    "\n",
    "# Count items per row\n",
    "df_dev['count'] = df_dev['choices'].apply(\n",
    "    lambda x: len(x) if isinstance(x, (list, np.ndarray))\n",
    "    else len(ast.literal_eval(x)) if isinstance(x, str) and x.strip() != \"\" else 0\n",
    ")\n",
    "\n",
    "# Show the counts per row\n",
    "print(df_dev[['choices', 'count']])\n",
    "\n",
    "# Show the overall frequency of each distinct count\n",
    "count_summary = df_dev['count'].value_counts().sort_index()\n",
    "print(\"\\nOverall count summary:\")\n",
    "print(count_summary)\n"
   ]
  },
  {
   "cell_type": "code",
   "execution_count": 26,
   "id": "b5541dba",
   "metadata": {},
   "outputs": [
    {
     "name": "stdout",
     "output_type": "stream",
     "text": [
      "answer\n",
      "3    78\n",
      "2    71\n",
      "1    69\n",
      "0    67\n",
      "Name: count, dtype: int64\n"
     ]
    }
   ],
   "source": [
    "count1 = df_dev['answer'].value_counts()\n",
    "print(count1)"
   ]
  },
  {
   "cell_type": "code",
   "execution_count": 29,
   "id": "85cc4a07",
   "metadata": {},
   "outputs": [
    {
     "data": {
      "text/html": [
       "<div>\n",
       "<style scoped>\n",
       "    .dataframe tbody tr th:only-of-type {\n",
       "        vertical-align: middle;\n",
       "    }\n",
       "\n",
       "    .dataframe tbody tr th {\n",
       "        vertical-align: top;\n",
       "    }\n",
       "\n",
       "    .dataframe thead th {\n",
       "        text-align: right;\n",
       "    }\n",
       "</style>\n",
       "<table border=\"1\" class=\"dataframe\">\n",
       "  <thead>\n",
       "    <tr style=\"text-align: right;\">\n",
       "      <th></th>\n",
       "      <th>question</th>\n",
       "      <th>subject</th>\n",
       "      <th>choices</th>\n",
       "      <th>answer</th>\n",
       "    </tr>\n",
       "  </thead>\n",
       "  <tbody>\n",
       "    <tr>\n",
       "      <th>0</th>\n",
       "      <td>Find the degree for the given field extension ...</td>\n",
       "      <td>abstract_algebra</td>\n",
       "      <td>[0, 4, 2, 6]</td>\n",
       "      <td>1</td>\n",
       "    </tr>\n",
       "    <tr>\n",
       "      <th>1</th>\n",
       "      <td>Let p = (1, 2, 5, 4)(2, 3) in S_5 . Find the i...</td>\n",
       "      <td>abstract_algebra</td>\n",
       "      <td>[8, 2, 24, 120]</td>\n",
       "      <td>2</td>\n",
       "    </tr>\n",
       "    <tr>\n",
       "      <th>2</th>\n",
       "      <td>Find all zeros in the indicated finite field o...</td>\n",
       "      <td>abstract_algebra</td>\n",
       "      <td>[0, 1, 0,1, 0,4]</td>\n",
       "      <td>3</td>\n",
       "    </tr>\n",
       "    <tr>\n",
       "      <th>3</th>\n",
       "      <td>Statement 1 | A factor group of a non-Abelian ...</td>\n",
       "      <td>abstract_algebra</td>\n",
       "      <td>[True, True, False, False, True, False, False,...</td>\n",
       "      <td>1</td>\n",
       "    </tr>\n",
       "    <tr>\n",
       "      <th>4</th>\n",
       "      <td>Find the product of the given polynomials in t...</td>\n",
       "      <td>abstract_algebra</td>\n",
       "      <td>[2x^2 + 5, 6x^2 + 4x + 6, 0, x^2 + 1]</td>\n",
       "      <td>1</td>\n",
       "    </tr>\n",
       "  </tbody>\n",
       "</table>\n",
       "</div>"
      ],
      "text/plain": [
       "                                            question           subject  \\\n",
       "0  Find the degree for the given field extension ...  abstract_algebra   \n",
       "1  Let p = (1, 2, 5, 4)(2, 3) in S_5 . Find the i...  abstract_algebra   \n",
       "2  Find all zeros in the indicated finite field o...  abstract_algebra   \n",
       "3  Statement 1 | A factor group of a non-Abelian ...  abstract_algebra   \n",
       "4  Find the product of the given polynomials in t...  abstract_algebra   \n",
       "\n",
       "                                             choices  answer  \n",
       "0                                       [0, 4, 2, 6]       1  \n",
       "1                                    [8, 2, 24, 120]       2  \n",
       "2                                   [0, 1, 0,1, 0,4]       3  \n",
       "3  [True, True, False, False, True, False, False,...       1  \n",
       "4              [2x^2 + 5, 6x^2 + 4x + 6, 0, x^2 + 1]       1  "
      ]
     },
     "execution_count": 29,
     "metadata": {},
     "output_type": "execute_result"
    }
   ],
   "source": [
    "df_test.head()"
   ]
  },
  {
   "cell_type": "code",
   "execution_count": 30,
   "id": "d7185752",
   "metadata": {},
   "outputs": [
    {
     "name": "stdout",
     "output_type": "stream",
     "text": [
      "answer\n",
      "3    3776\n",
      "2    3582\n",
      "1    3462\n",
      "0    3222\n",
      "Name: count, dtype: int64\n"
     ]
    }
   ],
   "source": [
    "count2 = df_test['answer'].value_counts()\n",
    "print(count2)"
   ]
  },
  {
   "cell_type": "code",
   "execution_count": 31,
   "id": "638ecacc",
   "metadata": {},
   "outputs": [
    {
     "data": {
      "text/plain": [
       "14042"
      ]
     },
     "execution_count": 31,
     "metadata": {},
     "output_type": "execute_result"
    }
   ],
   "source": [
    "len(df_test['choices'])"
   ]
  },
  {
   "cell_type": "code",
   "execution_count": 32,
   "id": "255a5d8c",
   "metadata": {},
   "outputs": [
    {
     "name": "stdout",
     "output_type": "stream",
     "text": [
      "                                                 choices  count\n",
      "0                                           [0, 4, 2, 6]      4\n",
      "1                                        [8, 2, 24, 120]      4\n",
      "2                                       [0, 1, 0,1, 0,4]      4\n",
      "3      [True, True, False, False, True, False, False,...      4\n",
      "4                  [2x^2 + 5, 6x^2 + 4x + 6, 0, x^2 + 1]      4\n",
      "...                                                  ...    ...\n",
      "14037  [Peace and harmony, Power and influence, Truth...      4\n",
      "14038  [The Buddha, Laozi, The Queen Mother of the We...      4\n",
      "14039  [of a similar substance, of the same substance...      4\n",
      "14040                       [Es, Izanagi, Izanami, Kami]      4\n",
      "14041  [Divine power, Sexual virility, Military acume...      4\n",
      "\n",
      "[14042 rows x 2 columns]\n",
      "\n",
      "Overall count summary:\n",
      "count\n",
      "4    14042\n",
      "Name: count, dtype: int64\n"
     ]
    }
   ],
   "source": [
    "# Count items per row\n",
    "df_test['count'] = df_test['choices'].apply(\n",
    "    lambda x: len(x) if isinstance(x, (list, np.ndarray))\n",
    "    else len(ast.literal_eval(x)) if isinstance(x, str) and x.strip() != \"\" else 0\n",
    ")\n",
    "\n",
    "# Show the counts per row\n",
    "print(df_test[['choices', 'count']])\n",
    "\n",
    "# Show the overall frequency of each distinct count\n",
    "count_summary = df_test['count'].value_counts().sort_index()\n",
    "print(\"\\nOverall count summary:\")\n",
    "print(count_summary)"
   ]
  },
  {
   "cell_type": "code",
   "execution_count": 54,
   "id": "65939b49",
   "metadata": {},
   "outputs": [],
   "source": [
    "# Rearrange and drop subject\n",
    "df_test_cleaned = df_val[['question', 'choices', 'answer']]"
   ]
  },
  {
   "cell_type": "code",
   "execution_count": 55,
   "id": "a527a5dd",
   "metadata": {},
   "outputs": [
    {
     "data": {
      "text/html": [
       "<div>\n",
       "<style scoped>\n",
       "    .dataframe tbody tr th:only-of-type {\n",
       "        vertical-align: middle;\n",
       "    }\n",
       "\n",
       "    .dataframe tbody tr th {\n",
       "        vertical-align: top;\n",
       "    }\n",
       "\n",
       "    .dataframe thead th {\n",
       "        text-align: right;\n",
       "    }\n",
       "</style>\n",
       "<table border=\"1\" class=\"dataframe\">\n",
       "  <thead>\n",
       "    <tr style=\"text-align: right;\">\n",
       "      <th></th>\n",
       "      <th>question</th>\n",
       "      <th>choices</th>\n",
       "      <th>answer</th>\n",
       "    </tr>\n",
       "  </thead>\n",
       "  <tbody>\n",
       "    <tr>\n",
       "      <th>0</th>\n",
       "      <td>The cyclic subgroup of Z_24 generated by 18 ha...</td>\n",
       "      <td>[4, 8, 12, 6]</td>\n",
       "      <td>0</td>\n",
       "    </tr>\n",
       "    <tr>\n",
       "      <th>1</th>\n",
       "      <td>Find the order of the factor group Z_6/&lt;3&gt;.</td>\n",
       "      <td>[2, 3, 6, 12]</td>\n",
       "      <td>1</td>\n",
       "    </tr>\n",
       "    <tr>\n",
       "      <th>2</th>\n",
       "      <td>Statement 1 | A permutation that is a product ...</td>\n",
       "      <td>[True, True, False, False, True, False, False,...</td>\n",
       "      <td>0</td>\n",
       "    </tr>\n",
       "    <tr>\n",
       "      <th>3</th>\n",
       "      <td>Find the order of the factor group (Z_4 x Z_12...</td>\n",
       "      <td>[2, 3, 4, 12]</td>\n",
       "      <td>2</td>\n",
       "    </tr>\n",
       "    <tr>\n",
       "      <th>4</th>\n",
       "      <td>Find the maximum possible order for some eleme...</td>\n",
       "      <td>[4, 6, 12, 24]</td>\n",
       "      <td>2</td>\n",
       "    </tr>\n",
       "  </tbody>\n",
       "</table>\n",
       "</div>"
      ],
      "text/plain": [
       "                                            question  \\\n",
       "0  The cyclic subgroup of Z_24 generated by 18 ha...   \n",
       "1        Find the order of the factor group Z_6/<3>.   \n",
       "2  Statement 1 | A permutation that is a product ...   \n",
       "3  Find the order of the factor group (Z_4 x Z_12...   \n",
       "4  Find the maximum possible order for some eleme...   \n",
       "\n",
       "                                             choices  answer  \n",
       "0                                      [4, 8, 12, 6]       0  \n",
       "1                                      [2, 3, 6, 12]       1  \n",
       "2  [True, True, False, False, True, False, False,...       0  \n",
       "3                                      [2, 3, 4, 12]       2  \n",
       "4                                     [4, 6, 12, 24]       2  "
      ]
     },
     "execution_count": 55,
     "metadata": {},
     "output_type": "execute_result"
    }
   ],
   "source": [
    "df_test_cleaned.head()"
   ]
  },
  {
   "cell_type": "code",
   "execution_count": 56,
   "id": "d323d656",
   "metadata": {},
   "outputs": [],
   "source": [
    "df_test_cleaned.to_parquet(\"/Users/Rex/vscode/ai_llm_optimization/data/clean/df_test_cleaned.parquet\", index=False)\n"
   ]
  },
  {
   "cell_type": "code",
   "execution_count": 9,
   "id": "64b07890",
   "metadata": {},
   "outputs": [
    {
     "data": {
      "text/html": [
       "<div>\n",
       "<style scoped>\n",
       "    .dataframe tbody tr th:only-of-type {\n",
       "        vertical-align: middle;\n",
       "    }\n",
       "\n",
       "    .dataframe tbody tr th {\n",
       "        vertical-align: top;\n",
       "    }\n",
       "\n",
       "    .dataframe thead th {\n",
       "        text-align: right;\n",
       "    }\n",
       "</style>\n",
       "<table border=\"1\" class=\"dataframe\">\n",
       "  <thead>\n",
       "    <tr style=\"text-align: right;\">\n",
       "      <th></th>\n",
       "      <th>question</th>\n",
       "      <th>subject</th>\n",
       "      <th>choices</th>\n",
       "      <th>answer</th>\n",
       "    </tr>\n",
       "  </thead>\n",
       "  <tbody>\n",
       "    <tr>\n",
       "      <th>0</th>\n",
       "      <td>The cyclic subgroup of Z_24 generated by 18 ha...</td>\n",
       "      <td>abstract_algebra</td>\n",
       "      <td>[4, 8, 12, 6]</td>\n",
       "      <td>0</td>\n",
       "    </tr>\n",
       "    <tr>\n",
       "      <th>1</th>\n",
       "      <td>Find the order of the factor group Z_6/&lt;3&gt;.</td>\n",
       "      <td>abstract_algebra</td>\n",
       "      <td>[2, 3, 6, 12]</td>\n",
       "      <td>1</td>\n",
       "    </tr>\n",
       "    <tr>\n",
       "      <th>2</th>\n",
       "      <td>Statement 1 | A permutation that is a product ...</td>\n",
       "      <td>abstract_algebra</td>\n",
       "      <td>[True, True, False, False, True, False, False,...</td>\n",
       "      <td>0</td>\n",
       "    </tr>\n",
       "    <tr>\n",
       "      <th>3</th>\n",
       "      <td>Find the order of the factor group (Z_4 x Z_12...</td>\n",
       "      <td>abstract_algebra</td>\n",
       "      <td>[2, 3, 4, 12]</td>\n",
       "      <td>2</td>\n",
       "    </tr>\n",
       "    <tr>\n",
       "      <th>4</th>\n",
       "      <td>Find the maximum possible order for some eleme...</td>\n",
       "      <td>abstract_algebra</td>\n",
       "      <td>[4, 6, 12, 24]</td>\n",
       "      <td>2</td>\n",
       "    </tr>\n",
       "  </tbody>\n",
       "</table>\n",
       "</div>"
      ],
      "text/plain": [
       "                                            question           subject  \\\n",
       "0  The cyclic subgroup of Z_24 generated by 18 ha...  abstract_algebra   \n",
       "1        Find the order of the factor group Z_6/<3>.  abstract_algebra   \n",
       "2  Statement 1 | A permutation that is a product ...  abstract_algebra   \n",
       "3  Find the order of the factor group (Z_4 x Z_12...  abstract_algebra   \n",
       "4  Find the maximum possible order for some eleme...  abstract_algebra   \n",
       "\n",
       "                                             choices  answer  \n",
       "0                                      [4, 8, 12, 6]       0  \n",
       "1                                      [2, 3, 6, 12]       1  \n",
       "2  [True, True, False, False, True, False, False,...       0  \n",
       "3                                      [2, 3, 4, 12]       2  \n",
       "4                                     [4, 6, 12, 24]       2  "
      ]
     },
     "execution_count": 9,
     "metadata": {},
     "output_type": "execute_result"
    }
   ],
   "source": [
    "df_val.head()"
   ]
  },
  {
   "cell_type": "code",
   "execution_count": 10,
   "id": "e3b59065",
   "metadata": {},
   "outputs": [
    {
     "name": "stdout",
     "output_type": "stream",
     "text": [
      "answer\n",
      "2    387\n",
      "3    384\n",
      "0    381\n",
      "1    379\n",
      "Name: count, dtype: int64\n"
     ]
    }
   ],
   "source": [
    "count3 = df_val['answer'].value_counts()\n",
    "print(count3)"
   ]
  },
  {
   "cell_type": "code",
   "execution_count": 11,
   "id": "a250a194",
   "metadata": {},
   "outputs": [
    {
     "data": {
      "text/plain": [
       "1531"
      ]
     },
     "execution_count": 11,
     "metadata": {},
     "output_type": "execute_result"
    }
   ],
   "source": [
    "len(df_val)"
   ]
  },
  {
   "cell_type": "code",
   "execution_count": 12,
   "id": "cc1bad53",
   "metadata": {},
   "outputs": [
    {
     "name": "stdout",
     "output_type": "stream",
     "text": [
      "                                                choices  count\n",
      "0                                         [4, 8, 12, 6]      4\n",
      "1                                         [2, 3, 6, 12]      4\n",
      "2     [True, True, False, False, True, False, False,...      4\n",
      "3                                         [2, 3, 4, 12]      4\n",
      "4                                        [4, 6, 12, 24]      4\n",
      "...                                                 ...    ...\n",
      "1526  [Non-action, Contemplation, Meditation, Intent...      4\n",
      "1527  [Guru Angad, His son, Guru Gobind Singh, Guru ...      4\n",
      "1528  [\"Enlightened leader\", \"Great soul\", \"Enlighte...      4\n",
      "1529  [The Exodus, The Covenant, The Ten Commandment...      4\n",
      "1530           [Sadducees, Pharisees, Essenes, Zealots]      4\n",
      "\n",
      "[1531 rows x 2 columns]\n",
      "\n",
      "Overall count summary:\n",
      "count\n",
      "4    1531\n",
      "Name: count, dtype: int64\n"
     ]
    }
   ],
   "source": [
    "# Count items per row\n",
    "df_val['count'] = df_val['choices'].apply(\n",
    "    lambda x: len(x) if isinstance(x, (list, np.ndarray))\n",
    "    else len(ast.literal_eval(x)) if isinstance(x, str) and x.strip() != \"\" else 0\n",
    ")\n",
    "\n",
    "# Show the counts per row\n",
    "print(df_val[['choices', 'count']])\n",
    "\n",
    "# Show the overall frequency of each distinct count\n",
    "count_summary = df_val['count'].value_counts().sort_index()\n",
    "print(\"\\nOverall count summary:\")\n",
    "print(count_summary)"
   ]
  },
  {
   "cell_type": "code",
   "execution_count": 13,
   "id": "a18e7add",
   "metadata": {},
   "outputs": [],
   "source": [
    "# Rearrange and drop subject\n",
    "df_val_cleaned = df_val[['question', 'choices', 'answer']]"
   ]
  },
  {
   "cell_type": "code",
   "execution_count": 14,
   "id": "ef9a532e",
   "metadata": {},
   "outputs": [
    {
     "data": {
      "text/html": [
       "<div>\n",
       "<style scoped>\n",
       "    .dataframe tbody tr th:only-of-type {\n",
       "        vertical-align: middle;\n",
       "    }\n",
       "\n",
       "    .dataframe tbody tr th {\n",
       "        vertical-align: top;\n",
       "    }\n",
       "\n",
       "    .dataframe thead th {\n",
       "        text-align: right;\n",
       "    }\n",
       "</style>\n",
       "<table border=\"1\" class=\"dataframe\">\n",
       "  <thead>\n",
       "    <tr style=\"text-align: right;\">\n",
       "      <th></th>\n",
       "      <th>question</th>\n",
       "      <th>choices</th>\n",
       "      <th>answer</th>\n",
       "    </tr>\n",
       "  </thead>\n",
       "  <tbody>\n",
       "    <tr>\n",
       "      <th>0</th>\n",
       "      <td>The cyclic subgroup of Z_24 generated by 18 ha...</td>\n",
       "      <td>[4, 8, 12, 6]</td>\n",
       "      <td>0</td>\n",
       "    </tr>\n",
       "    <tr>\n",
       "      <th>1</th>\n",
       "      <td>Find the order of the factor group Z_6/&lt;3&gt;.</td>\n",
       "      <td>[2, 3, 6, 12]</td>\n",
       "      <td>1</td>\n",
       "    </tr>\n",
       "    <tr>\n",
       "      <th>2</th>\n",
       "      <td>Statement 1 | A permutation that is a product ...</td>\n",
       "      <td>[True, True, False, False, True, False, False,...</td>\n",
       "      <td>0</td>\n",
       "    </tr>\n",
       "    <tr>\n",
       "      <th>3</th>\n",
       "      <td>Find the order of the factor group (Z_4 x Z_12...</td>\n",
       "      <td>[2, 3, 4, 12]</td>\n",
       "      <td>2</td>\n",
       "    </tr>\n",
       "    <tr>\n",
       "      <th>4</th>\n",
       "      <td>Find the maximum possible order for some eleme...</td>\n",
       "      <td>[4, 6, 12, 24]</td>\n",
       "      <td>2</td>\n",
       "    </tr>\n",
       "  </tbody>\n",
       "</table>\n",
       "</div>"
      ],
      "text/plain": [
       "                                            question  \\\n",
       "0  The cyclic subgroup of Z_24 generated by 18 ha...   \n",
       "1        Find the order of the factor group Z_6/<3>.   \n",
       "2  Statement 1 | A permutation that is a product ...   \n",
       "3  Find the order of the factor group (Z_4 x Z_12...   \n",
       "4  Find the maximum possible order for some eleme...   \n",
       "\n",
       "                                             choices  answer  \n",
       "0                                      [4, 8, 12, 6]       0  \n",
       "1                                      [2, 3, 6, 12]       1  \n",
       "2  [True, True, False, False, True, False, False,...       0  \n",
       "3                                      [2, 3, 4, 12]       2  \n",
       "4                                     [4, 6, 12, 24]       2  "
      ]
     },
     "execution_count": 14,
     "metadata": {},
     "output_type": "execute_result"
    }
   ],
   "source": [
    "df_val_cleaned.head()"
   ]
  },
  {
   "cell_type": "code",
   "execution_count": 15,
   "id": "452f9363",
   "metadata": {},
   "outputs": [
    {
     "name": "stdout",
     "output_type": "stream",
     "text": [
      "answer\n",
      "2    387\n",
      "3    384\n",
      "0    381\n",
      "1    379\n",
      "Name: count, dtype: int64\n"
     ]
    }
   ],
   "source": [
    "counts = df_val_cleaned['answer'].value_counts()\n",
    "print(counts)"
   ]
  },
  {
   "cell_type": "code",
   "execution_count": 53,
   "id": "60dcfded",
   "metadata": {},
   "outputs": [],
   "source": [
    "df_val_cleaned.to_parquet(\"/Users/Rex/vscode/ai_llm_optimization/data/clean/df_val_cleaned.parquet\", index=False)"
   ]
  },
  {
   "cell_type": "code",
   "execution_count": 37,
   "id": "849f8290",
   "metadata": {},
   "outputs": [
    {
     "data": {
      "text/html": [
       "<div>\n",
       "<style scoped>\n",
       "    .dataframe tbody tr th:only-of-type {\n",
       "        vertical-align: middle;\n",
       "    }\n",
       "\n",
       "    .dataframe tbody tr th {\n",
       "        vertical-align: top;\n",
       "    }\n",
       "\n",
       "    .dataframe thead th {\n",
       "        text-align: right;\n",
       "    }\n",
       "</style>\n",
       "<table border=\"1\" class=\"dataframe\">\n",
       "  <thead>\n",
       "    <tr style=\"text-align: right;\">\n",
       "      <th></th>\n",
       "      <th>answer</th>\n",
       "      <th>choices</th>\n",
       "      <th>question</th>\n",
       "      <th>subject</th>\n",
       "    </tr>\n",
       "  </thead>\n",
       "  <tbody>\n",
       "    <tr>\n",
       "      <th>0</th>\n",
       "      <td>1</td>\n",
       "      <td>[Adams only., Brooks only., Case only., Adams ...</td>\n",
       "      <td>Davis decided to kill Adams. He set out for Ad...</td>\n",
       "      <td></td>\n",
       "    </tr>\n",
       "    <tr>\n",
       "      <th>1</th>\n",
       "      <td>3</td>\n",
       "      <td>[guilty, because this is a public welfare offe...</td>\n",
       "      <td>A state statute requires any person licensed t...</td>\n",
       "      <td></td>\n",
       "    </tr>\n",
       "    <tr>\n",
       "      <th>2</th>\n",
       "      <td>2</td>\n",
       "      <td>[Yes, because Mann threatened to use deadly fo...</td>\n",
       "      <td>Lender met Borrower on the street, demanded th...</td>\n",
       "      <td></td>\n",
       "    </tr>\n",
       "    <tr>\n",
       "      <th>3</th>\n",
       "      <td>1</td>\n",
       "      <td>[must permit Don to answer if he had objected ...</td>\n",
       "      <td>Peter sued Don for breach of contract. The cou...</td>\n",
       "      <td></td>\n",
       "    </tr>\n",
       "    <tr>\n",
       "      <th>4</th>\n",
       "      <td>2</td>\n",
       "      <td>[partial breach of contract only if Ames had p...</td>\n",
       "      <td>Ames had painted Bell's house under a contract...</td>\n",
       "      <td></td>\n",
       "    </tr>\n",
       "  </tbody>\n",
       "</table>\n",
       "</div>"
      ],
      "text/plain": [
       "   answer                                            choices  \\\n",
       "0       1  [Adams only., Brooks only., Case only., Adams ...   \n",
       "1       3  [guilty, because this is a public welfare offe...   \n",
       "2       2  [Yes, because Mann threatened to use deadly fo...   \n",
       "3       1  [must permit Don to answer if he had objected ...   \n",
       "4       2  [partial breach of contract only if Ames had p...   \n",
       "\n",
       "                                            question subject  \n",
       "0  Davis decided to kill Adams. He set out for Ad...          \n",
       "1  A state statute requires any person licensed t...          \n",
       "2  Lender met Borrower on the street, demanded th...          \n",
       "3  Peter sued Don for breach of contract. The cou...          \n",
       "4  Ames had painted Bell's house under a contract...          "
      ]
     },
     "execution_count": 37,
     "metadata": {},
     "output_type": "execute_result"
    }
   ],
   "source": [
    "df_aux.head()"
   ]
  },
  {
   "cell_type": "code",
   "execution_count": 38,
   "id": "19c48461",
   "metadata": {},
   "outputs": [
    {
     "name": "stdout",
     "output_type": "stream",
     "text": [
      "answer\n",
      "2    26850\n",
      "1    25717\n",
      "3    25091\n",
      "0    22184\n",
      "Name: count, dtype: int64\n"
     ]
    }
   ],
   "source": [
    "count3 = df_aux['answer'].value_counts()\n",
    "print(count3)"
   ]
  },
  {
   "cell_type": "code",
   "execution_count": 39,
   "id": "9a120fce",
   "metadata": {},
   "outputs": [
    {
     "data": {
      "text/plain": [
       "99842"
      ]
     },
     "execution_count": 39,
     "metadata": {},
     "output_type": "execute_result"
    }
   ],
   "source": [
    "len(df_aux)"
   ]
  },
  {
   "cell_type": "code",
   "execution_count": 40,
   "id": "d352d33e",
   "metadata": {},
   "outputs": [
    {
     "name": "stdout",
     "output_type": "stream",
     "text": [
      "                                                 choices  count\n",
      "0      [Adams only., Brooks only., Case only., Adams ...      4\n",
      "1      [guilty, because this is a public welfare offe...      4\n",
      "2      [Yes, because Mann threatened to use deadly fo...      4\n",
      "3      [must permit Don to answer if he had objected ...      4\n",
      "4      [partial breach of contract only if Ames had p...      4\n",
      "...                                                  ...    ...\n",
      "99837        [skyscrapers, the stock market, air, water]      4\n",
      "99838                 [Brewer's yeast, air, sand, sugar]      4\n",
      "99839  [the praying mantis, the antelope, the butterf...      4\n",
      "99840  [organisms they hunt, computer, groceries, seven]      4\n",
      "99841   [a ruler, a compass, a calculator, a protractor]      4\n",
      "\n",
      "[99842 rows x 2 columns]\n",
      "\n",
      "Overall count summary:\n",
      "count\n",
      "4    99842\n",
      "Name: count, dtype: int64\n"
     ]
    }
   ],
   "source": [
    "# Count items per row\n",
    "df_aux['count'] = df_aux['choices'].apply(\n",
    "    lambda x: len(x) if isinstance(x, (list, np.ndarray))\n",
    "    else len(ast.literal_eval(x)) if isinstance(x, str) and x.strip() != \"\" else 0\n",
    ")\n",
    "\n",
    "# Show the counts per row\n",
    "print(df_aux[['choices', 'count']])\n",
    "\n",
    "# Show the overall frequency of each distinct count\n",
    "count_summary = df_aux['count'].value_counts().sort_index()\n",
    "print(\"\\nOverall count summary:\")\n",
    "print(count_summary)"
   ]
  },
  {
   "cell_type": "code",
   "execution_count": 45,
   "id": "59e52d9d",
   "metadata": {},
   "outputs": [
    {
     "data": {
      "text/html": [
       "<div>\n",
       "<style scoped>\n",
       "    .dataframe tbody tr th:only-of-type {\n",
       "        vertical-align: middle;\n",
       "    }\n",
       "\n",
       "    .dataframe tbody tr th {\n",
       "        vertical-align: top;\n",
       "    }\n",
       "\n",
       "    .dataframe thead th {\n",
       "        text-align: right;\n",
       "    }\n",
       "</style>\n",
       "<table border=\"1\" class=\"dataframe\">\n",
       "  <thead>\n",
       "    <tr style=\"text-align: right;\">\n",
       "      <th></th>\n",
       "      <th>question</th>\n",
       "      <th>choices</th>\n",
       "      <th>answer</th>\n",
       "    </tr>\n",
       "  </thead>\n",
       "  <tbody>\n",
       "    <tr>\n",
       "      <th>0</th>\n",
       "      <td>Davis decided to kill Adams. He set out for Ad...</td>\n",
       "      <td>[Adams only., Brooks only., Case only., Adams ...</td>\n",
       "      <td>1</td>\n",
       "    </tr>\n",
       "    <tr>\n",
       "      <th>1</th>\n",
       "      <td>A state statute requires any person licensed t...</td>\n",
       "      <td>[guilty, because this is a public welfare offe...</td>\n",
       "      <td>3</td>\n",
       "    </tr>\n",
       "    <tr>\n",
       "      <th>2</th>\n",
       "      <td>Lender met Borrower on the street, demanded th...</td>\n",
       "      <td>[Yes, because Mann threatened to use deadly fo...</td>\n",
       "      <td>2</td>\n",
       "    </tr>\n",
       "    <tr>\n",
       "      <th>3</th>\n",
       "      <td>Peter sued Don for breach of contract. The cou...</td>\n",
       "      <td>[must permit Don to answer if he had objected ...</td>\n",
       "      <td>1</td>\n",
       "    </tr>\n",
       "    <tr>\n",
       "      <th>4</th>\n",
       "      <td>Ames had painted Bell's house under a contract...</td>\n",
       "      <td>[partial breach of contract only if Ames had p...</td>\n",
       "      <td>2</td>\n",
       "    </tr>\n",
       "  </tbody>\n",
       "</table>\n",
       "</div>"
      ],
      "text/plain": [
       "                                            question  \\\n",
       "0  Davis decided to kill Adams. He set out for Ad...   \n",
       "1  A state statute requires any person licensed t...   \n",
       "2  Lender met Borrower on the street, demanded th...   \n",
       "3  Peter sued Don for breach of contract. The cou...   \n",
       "4  Ames had painted Bell's house under a contract...   \n",
       "\n",
       "                                             choices  answer  \n",
       "0  [Adams only., Brooks only., Case only., Adams ...       1  \n",
       "1  [guilty, because this is a public welfare offe...       3  \n",
       "2  [Yes, because Mann threatened to use deadly fo...       2  \n",
       "3  [must permit Don to answer if he had objected ...       1  \n",
       "4  [partial breach of contract only if Ames had p...       2  "
      ]
     },
     "execution_count": 45,
     "metadata": {},
     "output_type": "execute_result"
    }
   ],
   "source": [
    "# Rearrange and drop subject\n",
    "df_aux_cleaned = df_aux[['question', 'choices', 'answer']]\n",
    "\n",
    "df_aux.head()"
   ]
  },
  {
   "cell_type": "code",
   "execution_count": 47,
   "id": "784a7ab4",
   "metadata": {},
   "outputs": [
    {
     "data": {
      "text/plain": [
       "Index(['question', 'choices', 'answer'], dtype='object')"
      ]
     },
     "execution_count": 47,
     "metadata": {},
     "output_type": "execute_result"
    }
   ],
   "source": [
    "df_aux_cleaned.columns"
   ]
  },
  {
   "cell_type": "code",
   "execution_count": 48,
   "id": "df471be3",
   "metadata": {},
   "outputs": [],
   "source": [
    "df_aux_cleaned.to_parquet(\"/Users/Rex/vscode/ai_llm_optimization/data/clean/df_aux_cleaned.parquet\", index=False)\n"
   ]
  }
 ],
 "metadata": {
  "kernelspec": {
   "display_name": "venv_ai_llm_optimization",
   "language": "python",
   "name": "python3"
  },
  "language_info": {
   "codemirror_mode": {
    "name": "ipython",
    "version": 3
   },
   "file_extension": ".py",
   "mimetype": "text/x-python",
   "name": "python",
   "nbconvert_exporter": "python",
   "pygments_lexer": "ipython3",
   "version": "3.12.6"
  }
 },
 "nbformat": 4,
 "nbformat_minor": 5
}
