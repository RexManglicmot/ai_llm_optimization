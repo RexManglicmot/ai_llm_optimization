{
 "cells": [
  {
   "cell_type": "code",
   "execution_count": 1,
   "id": "8f2e40a4",
   "metadata": {},
   "outputs": [],
   "source": [
    "import pandas as pd\n"
   ]
  },
  {
   "cell_type": "code",
   "execution_count": 2,
   "id": "8b45d907",
   "metadata": {},
   "outputs": [],
   "source": [
    "df = pd.read_csv(\"/Users/Rex/vscode/ai_llm_optimization/metrics_result/test_metrics_results.csv\")"
   ]
  },
  {
   "cell_type": "code",
   "execution_count": 3,
   "id": "b7ed922b",
   "metadata": {},
   "outputs": [
    {
     "data": {
      "text/html": [
       "<div>\n",
       "<style scoped>\n",
       "    .dataframe tbody tr th:only-of-type {\n",
       "        vertical-align: middle;\n",
       "    }\n",
       "\n",
       "    .dataframe tbody tr th {\n",
       "        vertical-align: top;\n",
       "    }\n",
       "\n",
       "    .dataframe thead th {\n",
       "        text-align: right;\n",
       "    }\n",
       "</style>\n",
       "<table border=\"1\" class=\"dataframe\">\n",
       "  <thead>\n",
       "    <tr style=\"text-align: right;\">\n",
       "      <th></th>\n",
       "      <th>temp</th>\n",
       "      <th>top_p</th>\n",
       "      <th>acc_mean</th>\n",
       "      <th>tokens_mean</th>\n",
       "      <th>latency_mean</th>\n",
       "      <th>n_total</th>\n",
       "      <th>runs</th>\n",
       "      <th>acc_per_token</th>\n",
       "    </tr>\n",
       "  </thead>\n",
       "  <tbody>\n",
       "    <tr>\n",
       "      <th>0</th>\n",
       "      <td>0.0</td>\n",
       "      <td>1.0</td>\n",
       "      <td>0.71</td>\n",
       "      <td>49.0</td>\n",
       "      <td>0.95</td>\n",
       "      <td>220</td>\n",
       "      <td>2</td>\n",
       "      <td>0.014490</td>\n",
       "    </tr>\n",
       "    <tr>\n",
       "      <th>1</th>\n",
       "      <td>0.5</td>\n",
       "      <td>0.9</td>\n",
       "      <td>0.65</td>\n",
       "      <td>60.5</td>\n",
       "      <td>1.15</td>\n",
       "      <td>210</td>\n",
       "      <td>2</td>\n",
       "      <td>0.010744</td>\n",
       "    </tr>\n",
       "  </tbody>\n",
       "</table>\n",
       "</div>"
      ],
      "text/plain": [
       "   temp  top_p  acc_mean  tokens_mean  latency_mean  n_total  runs  \\\n",
       "0   0.0    1.0      0.71         49.0          0.95      220     2   \n",
       "1   0.5    0.9      0.65         60.5          1.15      210     2   \n",
       "\n",
       "   acc_per_token  \n",
       "0       0.014490  \n",
       "1       0.010744  "
      ]
     },
     "execution_count": 3,
     "metadata": {},
     "output_type": "execute_result"
    }
   ],
   "source": [
    "df.head()"
   ]
  }
 ],
 "metadata": {
  "kernelspec": {
   "display_name": "venv_ai_llm_optimization",
   "language": "python",
   "name": "python3"
  },
  "language_info": {
   "codemirror_mode": {
    "name": "ipython",
    "version": 3
   },
   "file_extension": ".py",
   "mimetype": "text/x-python",
   "name": "python",
   "nbconvert_exporter": "python",
   "pygments_lexer": "ipython3",
   "version": "3.12.6"
  }
 },
 "nbformat": 4,
 "nbformat_minor": 5
}
